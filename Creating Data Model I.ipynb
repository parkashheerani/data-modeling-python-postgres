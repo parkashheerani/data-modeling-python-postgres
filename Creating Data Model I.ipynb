{
 "cells": [
  {
   "cell_type": "code",
   "execution_count": 79,
   "id": "0bcd6c67",
   "metadata": {},
   "outputs": [],
   "source": [
    "import psycopg2"
   ]
  },
  {
   "cell_type": "code",
   "execution_count": 80,
   "id": "45c4fb47",
   "metadata": {},
   "outputs": [],
   "source": [
    "# Connecting to the postgres database"
   ]
  },
  {
   "cell_type": "code",
   "execution_count": 81,
   "id": "ee328fd3",
   "metadata": {},
   "outputs": [],
   "source": [
    "try:\n",
    "    conn = psycopg2.connect(\"host=127.0.0.1 dbname = postgres user = postgres password = 12345\")\n",
    "except psycopg2.Error as e:\n",
    "        print(\"Could not make connection to the postgres database \")\n",
    "        print(e)"
   ]
  },
  {
   "cell_type": "code",
   "execution_count": 82,
   "id": "a07e3425",
   "metadata": {},
   "outputs": [],
   "source": [
    "# Create cursor to the database"
   ]
  },
  {
   "cell_type": "code",
   "execution_count": 83,
   "id": "7faf80c5",
   "metadata": {},
   "outputs": [],
   "source": [
    "try:\n",
    "    cur = conn.cursor()\n",
    "except psycopg2.Error as e:\n",
    "    print(\"Could not get cursor to the database\")\n",
    "    print(e)"
   ]
  },
  {
   "cell_type": "code",
   "execution_count": 84,
   "id": "f8b303f2",
   "metadata": {},
   "outputs": [],
   "source": [
    "# setting autocommit so that we do not have to do it after each command"
   ]
  },
  {
   "cell_type": "code",
   "execution_count": 85,
   "id": "dbaeb50a",
   "metadata": {},
   "outputs": [],
   "source": [
    "conn.set_session(autocommit = True)"
   ]
  },
  {
   "cell_type": "code",
   "execution_count": 86,
   "id": "070a8498",
   "metadata": {},
   "outputs": [],
   "source": [
    "# Creating new database"
   ]
  },
  {
   "cell_type": "code",
   "execution_count": 87,
   "id": "831bb56c",
   "metadata": {},
   "outputs": [
    {
     "name": "stdout",
     "output_type": "stream",
     "text": [
      "Could not create database heeraniparkash\n",
      "database \"heeraniparkash\" already exists\n",
      "\n"
     ]
    }
   ],
   "source": [
    "try:\n",
    "    cur.execute(\"create database heeraniparkash\")\n",
    "except psycopg2.Error as e:\n",
    "    print('Could not create database heeraniparkash')\n",
    "    print(e)"
   ]
  },
  {
   "cell_type": "code",
   "execution_count": 88,
   "id": "b1df7e67",
   "metadata": {},
   "outputs": [],
   "source": [
    "# Now closing connection to the previous postgres database"
   ]
  },
  {
   "cell_type": "code",
   "execution_count": 89,
   "id": "2b6eb6c7",
   "metadata": {},
   "outputs": [],
   "source": [
    "try:\n",
    "    conn.close()\n",
    "except psycopg2.Error as e:\n",
    "    print(\"could not close connection to postgres database\")\n",
    "    print(e)"
   ]
  },
  {
   "cell_type": "code",
   "execution_count": 90,
   "id": "15040b38",
   "metadata": {},
   "outputs": [],
   "source": [
    "# Creating new connection and cursor to the heeraniparkash database"
   ]
  },
  {
   "cell_type": "code",
   "execution_count": 91,
   "id": "a7ce3b9c",
   "metadata": {},
   "outputs": [],
   "source": [
    "try:\n",
    "    conn = psycopg2.connect(\"host=127.0.0.1 dbname = heeraniparkash user = postgres password = 12345\")\n",
    "except psycopg2.Error as e:\n",
    "        print(\"Could not make connection to the heeraniparkash database \")\n",
    "        print(e)\n",
    "        \n",
    "try:\n",
    "    cur = conn.cursor()\n",
    "except psycopg2.Error as e:\n",
    "    print(\"Could not get cursor to the database\")\n",
    "    print(e)\n",
    "    \n",
    "conn.set_session(autocommit = True)"
   ]
  },
  {
   "cell_type": "code",
   "execution_count": 92,
   "id": "33ccdc52",
   "metadata": {},
   "outputs": [],
   "source": [
    "# Creating students table"
   ]
  },
  {
   "cell_type": "code",
   "execution_count": 93,
   "id": "dd9f5f30",
   "metadata": {},
   "outputs": [],
   "source": [
    "try:\n",
    "    cur.execute(\"CREATE TABLE IF NOT EXISTS STUDENTS (\\\n",
    "student_id int,\\\n",
    "name varchar,\\\n",
    "age int,\\\n",
    "gender varchar,\\\n",
    "subject varchar,\\\n",
    "marks int\\\n",
    ")\")\n",
    "except psycopg2.Error as e:\n",
    "    print(\"Could not create table\")\n",
    "    print(e)"
   ]
  },
  {
   "cell_type": "code",
   "execution_count": 94,
   "id": "08de329d",
   "metadata": {},
   "outputs": [],
   "source": [
    "# Inserting 4 rows into the table"
   ]
  },
  {
   "cell_type": "code",
   "execution_count": 95,
   "id": "5058d8ff",
   "metadata": {},
   "outputs": [],
   "source": [
    "try: \n",
    "    cur.execute(\"INSERT INTO students (student_id, name, age, gender, subject, marks) \\\n",
    "                 VALUES (%s, %s, %s, %s, %s, %s)\", \\\n",
    "                 (1, \"Parkash\", 25, \"Male\", \"Python\", 99))\n",
    "except psycopg2.Error as e: \n",
    "    print(\"Error: Inserting Rows\")\n",
    "    print (e)\n",
    "    \n",
    "try: \n",
    "    cur.execute(\"INSERT INTO students (student_id, name, age, gender, subject, marks) \\\n",
    "                  VALUES (%s, %s, %s, %s, %s, %s)\",\n",
    "                  ( 2, \"Neha\", 22, \"Female\", \"Physiotherapy\", 98))\n",
    "except psycopg2.Error as e: \n",
    "    print(\"Error: Inserting Rows\")\n",
    "    print (e)\n",
    "    \n",
    "    \n",
    "try: \n",
    "    cur.execute(\"INSERT INTO students (student_id, name, age, gender, subject, marks) \\\n",
    "                  VALUES (%s, %s, %s, %s, %s, %s)\",\n",
    "                  ( 3, \"Bhawani\", 17, \"Male\", \"Methamatics\", 85))\n",
    "except psycopg2.Error as e: \n",
    "    print(\"Error: Inserting Rows\")\n",
    "    print (e)\n",
    "\n",
    "try: \n",
    "    cur.execute(\"INSERT INTO students (student_id, name, age, gender, subject, marks) \\\n",
    "                  VALUES (%s, %s, %s, %s, %s, %s)\",\n",
    "                  ( 4, \"Kishore\", 19, \"Male\", \"Statistics\", 80))\n",
    "except psycopg2.Error as e: \n",
    "    print(\"Error: Inserting Rows\")\n",
    "    print (e)"
   ]
  },
  {
   "cell_type": "code",
   "execution_count": 96,
   "id": "30447b5c",
   "metadata": {},
   "outputs": [],
   "source": [
    "# Reading rows"
   ]
  },
  {
   "cell_type": "code",
   "execution_count": 97,
   "id": "183cb63b",
   "metadata": {},
   "outputs": [
    {
     "name": "stdout",
     "output_type": "stream",
     "text": [
      "(1, 'Parkash', 25, 'Male', 'Python', 99)\n",
      "(2, 'Neha', 22, 'Female', 'Physiotherapy', 98)\n",
      "(3, 'Bhawani', 17, 'Male', 'Methamatics', 85)\n",
      "(4, 'Kishore', 19, 'Male', 'Statistics', 80)\n"
     ]
    }
   ],
   "source": [
    "try: \n",
    "    cur.execute(\"SELECT * FROM students;\")\n",
    "except psycopg2.Error as e: \n",
    "    print(\"Error: select *\")\n",
    "    print (e)\n",
    "\n",
    "row = cur.fetchone()\n",
    "while row:\n",
    "    print(row)\n",
    "    row = cur.fetchone()"
   ]
  },
  {
   "cell_type": "code",
   "execution_count": 98,
   "id": "87696e97",
   "metadata": {},
   "outputs": [],
   "source": [
    "# Finally closing the connection and cursor"
   ]
  },
  {
   "cell_type": "code",
   "execution_count": 99,
   "id": "df7049dc",
   "metadata": {},
   "outputs": [],
   "source": [
    "cur.close()\n",
    "conn.close()"
   ]
  },
  {
   "cell_type": "code",
   "execution_count": null,
   "id": "df24880c",
   "metadata": {},
   "outputs": [],
   "source": []
  }
 ],
 "metadata": {
  "kernelspec": {
   "display_name": "Python 3 (ipykernel)",
   "language": "python",
   "name": "python3"
  },
  "language_info": {
   "codemirror_mode": {
    "name": "ipython",
    "version": 3
   },
   "file_extension": ".py",
   "mimetype": "text/x-python",
   "name": "python",
   "nbconvert_exporter": "python",
   "pygments_lexer": "ipython3",
   "version": "3.9.12"
  }
 },
 "nbformat": 4,
 "nbformat_minor": 5
}
